{
  "nbformat": 4,
  "nbformat_minor": 0,
  "metadata": {
    "colab": {
      "provenance": []
    },
    "kernelspec": {
      "name": "python3",
      "display_name": "Python 3"
    },
    "language_info": {
      "name": "python"
    }
  },
  "cells": [
    {
      "cell_type": "code",
      "source": [
        "import pandas as pd\n",
        "import numpy as np\n",
        "\n",
        "import matplotlib.pyplot as plt\n",
        "import seaborn as sns\n",
        "\n",
        "import statsmodels.api as sm\n",
        "import statsmodels.stats as sm_stats\n",
        "import scipy.stats as sc_stats"
      ],
      "metadata": {
        "id": "VJd1XryIIvz1"
      },
      "execution_count": 1,
      "outputs": []
    },
    {
      "cell_type": "markdown",
      "source": [
        "# Setup"
      ],
      "metadata": {
        "id": "GB7OJht9I20i"
      }
    },
    {
      "cell_type": "code",
      "execution_count": 2,
      "metadata": {
        "id": "a1r8DIfmIlkz"
      },
      "outputs": [],
      "source": [
        "# create a dataframe from the clean data output file\n",
        "df = pd.read_csv('statistics_output.csv', index_col=0)\n",
        "reg_df = df.filter(['SNP Vote 2014', 'Claimant Count 2014', 'Degree 2014', 'Low-Skilled Employment 2014', 'Population 2014', 'Community Belonging 2014', 'Crime 2014'])\n",
        "reg_df.rename(columns={'SNP Vote 2014': 'SNP Vote', 'Claimant Count 2014': 'Claimant Count', 'Degree 2014': 'Degree', 'Low-Skilled Employment 2014': 'Low-Skilled Employment', 'Population 2014': 'Population', 'Community Belonging 2014': 'Community', 'Crime 2014': 'Crime'}, inplace=True)"
      ]
    },
    {
      "cell_type": "code",
      "source": [
        "# define a function to create a regression model (OLS)\n",
        "def create_OLS_model(y, x):\n",
        "  model = sm.OLS(y, x)\n",
        "  return model.fit()"
      ],
      "metadata": {
        "id": "fC_h7aY2I7F-"
      },
      "execution_count": 3,
      "outputs": []
    },
    {
      "cell_type": "code",
      "source": [
        "# create a regression model for each independent variable\n",
        "snp_vote_model = create_OLS_model(df['Yes Vote 2014'], sm.add_constant(df['SNP Vote 2014']))\n",
        "claimant_count_model = create_OLS_model(df['Yes Vote 2014'], sm.add_constant(df['Claimant Count 2014']))\n",
        "degree_model = create_OLS_model(df['Yes Vote 2014'], sm.add_constant(df['Degree 2014']))\n",
        "low_skilled_model = create_OLS_model(df['Yes Vote 2014'], sm.add_constant(df['Low-Skilled Employment 2014']))\n",
        "population_model = create_OLS_model(df['Yes Vote 2014'], sm.add_constant(df['Population 2014']))\n",
        "community_model = create_OLS_model(df['Yes Vote 2014'], sm.add_constant(df['Community Belonging 2014']))\n",
        "crime_model = create_OLS_model(df['Yes Vote 2014'], sm.add_constant(df['Crime 2014']))"
      ],
      "metadata": {
        "colab": {
          "base_uri": "https://localhost:8080/"
        },
        "id": "gx_XRVKXJHPE",
        "outputId": "7138beef-b85e-45c3-dda8-3ab0e99a8ce4"
      },
      "execution_count": 42,
      "outputs": [
        {
          "output_type": "stream",
          "name": "stderr",
          "text": [
            "/usr/local/lib/python3.8/dist-packages/statsmodels/tsa/tsatools.py:142: FutureWarning: In a future version of pandas all arguments of concat except for the argument 'objs' will be keyword-only\n",
            "  x = pd.concat(x[::order], 1)\n"
          ]
        }
      ]
    },
    {
      "cell_type": "markdown",
      "source": [
        "# Linear Relationship"
      ],
      "metadata": {
        "id": "zMdJqommJzrR"
      }
    },
    {
      "cell_type": "code",
      "source": [
        "def regression_plot(independent_variable, variable_name):\n",
        "  sns.regplot(data=df, x=independent_variable, y='Yes Vote 2014')\n",
        "  plt.title('Variable Scatter Plot and Regression Line')\n",
        "  plt.savefig(f'regression_{variable_name}.png', dpi=300)\n",
        "  plt.close()"
      ],
      "metadata": {
        "id": "9iAncV2Av2NF"
      },
      "execution_count": 43,
      "outputs": []
    },
    {
      "cell_type": "markdown",
      "source": [
        "# Normality of Residuals"
      ],
      "metadata": {
        "id": "ivh6nz8CJ3Lh"
      }
    },
    {
      "cell_type": "code",
      "source": [
        "def qq_plot(model, variable_name):\n",
        "  sm.qqplot(data=model.resid, line='s')\n",
        "  plt.title(f'Q-Q Plot of Residuals ({variable_name})')\n",
        "  plt.savefig(f'qq_plot_{variable_name}.png', dpi=300)\n",
        "  plt.close()"
      ],
      "metadata": {
        "id": "2ozx6JRH_PnH"
      },
      "execution_count": 7,
      "outputs": []
    },
    {
      "cell_type": "code",
      "source": [
        "def residual_histogram(model, variable_name):\n",
        "  sns.histplot(x=model.resid, stat=\"density\", linewidth=0, kde=True)\n",
        "  plt.title(f'Histogram of Residuals ({variable_name})')\n",
        "  plt.xlabel('Residuals')\n",
        "  \n",
        "  # plot corresponding normal curve\n",
        "  mu, std = sc_stats.norm.fit(model.resid)\n",
        "  x = np.linspace(model.resid.min(), model.resid.max(), 100) # generate some x values\n",
        "  p = sc_stats.norm.pdf(x, mu, std) # calculate the y values for the normal curve\n",
        "  sns.lineplot(x=x, y=p, color=\"orange\")\n",
        "  plt.savefig(f'residual_histogram_{variable_name}.png', dpi=300)\n",
        "  plt.close()"
      ],
      "metadata": {
        "id": "5nav-CEc_pir"
      },
      "execution_count": 8,
      "outputs": []
    },
    {
      "cell_type": "code",
      "source": [
        "def box_plot(model, variable_name):\n",
        "  sns.boxplot(x=model.resid, showmeans=True)\n",
        "  plt.title(f'Box Plot of Residuals ({variable_name})')\n",
        "  plt.xlabel('Residuals')\n",
        "  plt.savefig(f'box_plot_{variable_name}.png', dpi=300)\n",
        "  plt.close()"
      ],
      "metadata": {
        "id": "Ni-zCa9dLiKC"
      },
      "execution_count": 9,
      "outputs": []
    },
    {
      "cell_type": "code",
      "source": [
        "def shapiro_wilk_test(model):\n",
        "  return sc_stats.shapiro(model.resid)"
      ],
      "metadata": {
        "id": "yBXZ10r2FPTO"
      },
      "execution_count": 10,
      "outputs": []
    },
    {
      "cell_type": "markdown",
      "source": [
        "# Independence of Residuals"
      ],
      "metadata": {
        "id": "YSif2biEJ50P"
      }
    },
    {
      "cell_type": "code",
      "source": [
        "def durbin_watson_test(model):\n",
        "  return sm_stats.stattools.durbin_watson(model.resid)"
      ],
      "metadata": {
        "id": "2IDIT1oIKdex"
      },
      "execution_count": 11,
      "outputs": []
    },
    {
      "cell_type": "markdown",
      "source": [
        "# Homoscedasticity of Residuals"
      ],
      "metadata": {
        "id": "gFqyjMIAJ9h_"
      }
    },
    {
      "cell_type": "code",
      "source": [
        "def residuals_fitted_plot(model, variable_name):\n",
        "  sns.residplot(x=model.fittedvalues, y='Yes Vote 2014', data=df, lowess=True, scatter_kws={'alpha': 0.5}, line_kws={'color': 'red', 'lw': 1, 'alpha': 0.8})\n",
        "  plt.title(f'Residuals vs Fitted Values ({variable_name})')\n",
        "  plt.xlabel('Fitted Values')\n",
        "  plt.ylabel('Residuals')\n",
        "  plt.savefig(f'residuals_fitted_plot_{variable_name}.png', dpi=300)\n",
        "  plt.close()"
      ],
      "metadata": {
        "id": "PTYEdNKyw4LJ"
      },
      "execution_count": 44,
      "outputs": []
    },
    {
      "cell_type": "markdown",
      "source": [
        "# Multicollinearity"
      ],
      "metadata": {
        "id": "wW2wYW6jNgY_"
      }
    },
    {
      "cell_type": "code",
      "source": [
        "def correlation_matrix():\n",
        "  plt.figure(figsize=(6, 5))\n",
        "  sns.heatmap(reg_df.corr(), annot=True, fmt=\".2f\", cmap='vlag')\n",
        "  plt.title('Correlation Matrix')\n",
        "  plt.tight_layout()\n",
        "  plt.savefig(f'correlation_matrix.png', dpi=300)\n",
        "  plt.close()"
      ],
      "metadata": {
        "id": "wkoZsUQzNlfC"
      },
      "execution_count": 34,
      "outputs": []
    },
    {
      "cell_type": "code",
      "source": [
        "def vif_analysis(df):\n",
        "  # create a dataframe with the independent variables and a constant\n",
        "  df_with_constant = sm.add_constant(reg_df)\n",
        "  # create the VIF dataframe\n",
        "  vif_df = pd.DataFrame()\n",
        "  vif_df['feature'] = df_with_constant.columns\n",
        "  # calculate VIF for each feature and add it to the VIF dataframe\n",
        "  vif_df['VIF'] = [sm_stats.outliers_influence.variance_inflation_factor(df_with_constant.values, i) for i in range(len(df_with_constant.columns))]\n",
        "  vif_df.drop([0], inplace=True)\n",
        "  # return the VIF dataframe\n",
        "  return vif_df"
      ],
      "metadata": {
        "id": "F_YPW-h4N4X1"
      },
      "execution_count": 41,
      "outputs": []
    },
    {
      "cell_type": "markdown",
      "source": [
        "# Outliers"
      ],
      "metadata": {
        "id": "TwLOpOUKsklA"
      }
    },
    {
      "cell_type": "code",
      "source": [
        "def test_cooks_distance(model, observations):\n",
        "  influnetial_data_points = []\n",
        "  counter = 0\n",
        "  for cooks_distance in model.get_influence().cooks_distance[0]:\n",
        "    if cooks_distance > 4/observations:\n",
        "      influnetial_data_points.append(df.index[counter])\n",
        "    counter += 1\n",
        "  return influnetial_data_points"
      ],
      "metadata": {
        "id": "su9U2BfWsmqn"
      },
      "execution_count": 37,
      "outputs": []
    },
    {
      "cell_type": "markdown",
      "source": [
        "# Output"
      ],
      "metadata": {
        "id": "8LqKDpmmIcww"
      }
    },
    {
      "cell_type": "code",
      "source": [
        "def assumptions_testing(model, independent_variable, variable_name, df=df, observations=32):\n",
        "  sw_test = shapiro_wilk_test(model)\n",
        "  dw_test = durbin_watson_test(model)\n",
        "  influential_data_points = test_cooks_distance(model, observations)\n",
        "  \n",
        "  regression_plot(independent_variable, variable_name)\n",
        "  qq_plot(model, variable_name)\n",
        "  residual_histogram(model, variable_name)\n",
        "  box_plot(model, variable_name)\n",
        "  residuals_fitted_plot(model, variable_name)\n",
        "  correlation_matrix()\n",
        "\n",
        "  print(f'================== Regression Assumption Statistics ({variable_name}) ==================')\n",
        "  print('\\n')\n",
        "  print(model.summary())\n",
        "  print('\\n')\n",
        "  print(f'Shapiro-Wilk Test: {sw_test[0]:.3f} (p-value: {sw_test[1]:.3f})')\n",
        "  print(f'Durbin Watson Test: {dw_test:.3f}')\n",
        "  if len(influential_data_points) > 0:\n",
        "    print(f'Number Of Influential Data Points Found: {len(influential_data_points)}')\n",
        "    print(f'Influential Data Points Found: {influential_data_points}')\n",
        "  else:\n",
        "    print('No Influential Data Points Found')\n",
        "  print('\\n')\n",
        "  print(f'========================== Regression Assumption Statistics ==========================')\n",
        "  print('\\n')\n",
        "  print(vif_analysis(df))\n",
        "  print('\\n')"
      ],
      "metadata": {
        "id": "bLgr4jjEIeg8"
      },
      "execution_count": 38,
      "outputs": []
    },
    {
      "cell_type": "code",
      "source": [
        "assumptions_testing(crime_model, 'Crime 2014', 'Crime')"
      ],
      "metadata": {
        "colab": {
          "base_uri": "https://localhost:8080/"
        },
        "id": "4Y4mK455KBxa",
        "outputId": "d46f4e27-b76e-40e5-d6e7-aecfaa1de5a5"
      },
      "execution_count": 53,
      "outputs": [
        {
          "output_type": "stream",
          "name": "stdout",
          "text": [
            "================== Regression Assumption Statistics (Crime) ==================\n",
            "\n",
            "\n",
            "                            OLS Regression Results                            \n",
            "==============================================================================\n",
            "Dep. Variable:          Yes Vote 2014   R-squared:                       0.393\n",
            "Model:                            OLS   Adj. R-squared:                  0.373\n",
            "Method:                 Least Squares   F-statistic:                     19.44\n",
            "Date:                Fri, 30 Dec 2022   Prob (F-statistic):           0.000123\n",
            "Time:                        16:59:39   Log-Likelihood:                 53.032\n",
            "No. Observations:                  32   AIC:                            -102.1\n",
            "Df Residuals:                      30   BIC:                            -99.13\n",
            "Df Model:                           1                                         \n",
            "Covariance Type:            nonrobust                                         \n",
            "==============================================================================\n",
            "                 coef    std err          t      P>|t|      [0.025      0.975]\n",
            "------------------------------------------------------------------------------\n",
            "const          0.3283      0.026     12.726      0.000       0.276       0.381\n",
            "Crime 2014     0.0002    4.6e-05      4.409      0.000       0.000       0.000\n",
            "==============================================================================\n",
            "Omnibus:                        1.144   Durbin-Watson:                   2.013\n",
            "Prob(Omnibus):                  0.565   Jarque-Bera (JB):                0.512\n",
            "Skew:                          -0.299   Prob(JB):                        0.774\n",
            "Kurtosis:                       3.163   Cond. No.                     1.72e+03\n",
            "==============================================================================\n",
            "\n",
            "Notes:\n",
            "[1] Standard Errors assume that the covariance matrix of the errors is correctly specified.\n",
            "[2] The condition number is large, 1.72e+03. This might indicate that there are\n",
            "strong multicollinearity or other numerical problems.\n",
            "\n",
            "\n",
            "Shapiro-Wilk Test: 0.973 (p-value: 0.587)\n",
            "Durbin Watson Test: 2.013\n",
            "Number Of Influential Data Points Found: 4\n",
            "Influential Data Points Found: ['Aberdeen City', 'City Of Edinburgh', 'Dundee City', 'Na H-Eileanan Siar']\n",
            "\n",
            "\n",
            "========================== Regression Assumption Statistics ==========================\n",
            "\n",
            "\n",
            "                  feature        VIF\n",
            "1                SNP Vote   1.189324\n",
            "2          Claimant Count   4.052787\n",
            "3                  Degree   3.329969\n",
            "4  Low-Skilled Employment   3.059117\n",
            "5              Population   6.483589\n",
            "6               Community   1.827230\n",
            "7                   Crime  11.130050\n",
            "\n",
            "\n"
          ]
        },
        {
          "output_type": "stream",
          "name": "stderr",
          "text": [
            "/usr/local/lib/python3.8/dist-packages/statsmodels/tsa/tsatools.py:142: FutureWarning: In a future version of pandas all arguments of concat except for the argument 'objs' will be keyword-only\n",
            "  x = pd.concat(x[::order], 1)\n"
          ]
        }
      ]
    }
  ]
}